{
 "cells": [
  {
   "cell_type": "code",
   "execution_count": 1,
   "id": "cbc22e65",
   "metadata": {},
   "outputs": [],
   "source": [
    "import findspark\n",
    "findspark.init()"
   ]
  },
  {
   "cell_type": "code",
   "execution_count": 2,
   "id": "89232a7a",
   "metadata": {},
   "outputs": [],
   "source": [
    "import pyspark \n",
    "from pyspark.sql import SparkSession\n",
    "spark=SparkSession.builder.appName(\"StudyApp\").getOrCreate()"
   ]
  },
  {
   "cell_type": "code",
   "execution_count": 18,
   "id": "108643b3",
   "metadata": {},
   "outputs": [
    {
     "name": "stdout",
     "output_type": "stream",
     "text": [
      "+------+--------+--------+----+-----+----+\n",
      "|itemid|itemname|itemcost|s_id|grade| qty|\n",
      "+------+--------+--------+----+-----+----+\n",
      "|     1|  Pencil|       4|   Y|    B|   6|\n",
      "|     2|     Pen|      43|   X|    A|   1|\n",
      "|     3|  Duster|      54|   Y|    C|   3|\n",
      "|     4|   Chock|      65|   X|    A|   4|\n",
      "|     5|notebook|    null|null| null|null|\n",
      "|     7| shopner|    null|   Y|    C|null|\n",
      "|     8|  Duster|      54|   Y|    C|   3|\n",
      "|     9|   Chock|      65|   X|    A|   4|\n",
      "+------+--------+--------+----+-----+----+\n",
      "\n",
      "+----+------+------+\n",
      "|s_id|s_name| icost|\n",
      "+----+------+------+\n",
      "|   Y|    AD|  1000|\n",
      "|   X|    ds| 20000|\n",
      "|   Y|    fd|100000|\n",
      "|   X|  fgvf|  5000|\n",
      "|null|    ds| 64000|\n",
      "|   Y|     i|  4544|\n",
      "|   Y|     v|   123|\n",
      "|   X|    gg|  null|\n",
      "+----+------+------+\n",
      "\n"
     ]
    }
   ],
   "source": [
    "df1=spark.read.option(\"header\",\"true\").csv(\"D:\\Items.csv\",header=True,inferSchema=True)\n",
    "df1.show()\n",
    "df2=spark.read.option(\"header\",\"true\").csv(\"D:\\supplier.csv\",header=True,inferSchema=True)\n",
    "df2.show()"
   ]
  },
  {
   "cell_type": "code",
   "execution_count": 4,
   "id": "fffe67d1",
   "metadata": {},
   "outputs": [],
   "source": [
    "df1.createOrReplaceTempView(\"tempview1\")\n",
    "df2.createOrReplaceTempView(\"tempview2\")"
   ]
  },
  {
   "cell_type": "code",
   "execution_count": 5,
   "id": "22a1eb68",
   "metadata": {},
   "outputs": [
    {
     "name": "stdout",
     "output_type": "stream",
     "text": [
      "+------+--------+--------+----+-----+---+\n",
      "|itemid|itemname|itemcost|s_id|grade|qty|\n",
      "+------+--------+--------+----+-----+---+\n",
      "|     2|     Pen|      43|   X|    A|  1|\n",
      "|     4|   Chock|      65|   X|    A|  4|\n",
      "|     9|   Chock|      65|   X|    A|  4|\n",
      "+------+--------+--------+----+-----+---+\n",
      "\n"
     ]
    }
   ],
   "source": [
    "#1.show item details and Supplier details supplied by MR.X\n",
    "result=spark.sql(\"select * from tempview1  where s_id=='X' \")\n",
    "result.show()"
   ]
  },
  {
   "cell_type": "code",
   "execution_count": 19,
   "id": "f782002f",
   "metadata": {},
   "outputs": [
    {
     "name": "stdout",
     "output_type": "stream",
     "text": [
      "+------+--------+--------+----+-----+----+----+------+------+\n",
      "|itemid|itemname|itemcost|s_id|grade| qty|s_id|s_name| icost|\n",
      "+------+--------+--------+----+-----+----+----+------+------+\n",
      "|     1|  Pencil|       4|   Y|    B|   6|   Y|     i|  4544|\n",
      "|     1|  Pencil|       4|   Y|    B|   6|   Y|    fd|100000|\n",
      "|     1|  Pencil|       4|   Y|    B|   6|   Y|    AD|  1000|\n",
      "|     2|     Pen|      43|   X|    A|   1|   X|  fgvf|  5000|\n",
      "|     2|     Pen|      43|   X|    A|   1|   X|    ds| 20000|\n",
      "|     3|  Duster|      54|   Y|    C|   3|   Y|     i|  4544|\n",
      "|     3|  Duster|      54|   Y|    C|   3|   Y|    fd|100000|\n",
      "|     3|  Duster|      54|   Y|    C|   3|   Y|    AD|  1000|\n",
      "|     4|   Chock|      65|   X|    A|   4|   X|  fgvf|  5000|\n",
      "|     4|   Chock|      65|   X|    A|   4|   X|    ds| 20000|\n",
      "|     7| shopner|    null|   Y|    C|null|   Y|     i|  4544|\n",
      "|     7| shopner|    null|   Y|    C|null|   Y|    fd|100000|\n",
      "|     7| shopner|    null|   Y|    C|null|   Y|    AD|  1000|\n",
      "|     8|  Duster|      54|   Y|    C|   3|   Y|     i|  4544|\n",
      "|     8|  Duster|      54|   Y|    C|   3|   Y|    fd|100000|\n",
      "|     8|  Duster|      54|   Y|    C|   3|   Y|    AD|  1000|\n",
      "|     9|   Chock|      65|   X|    A|   4|   X|  fgvf|  5000|\n",
      "|     9|   Chock|      65|   X|    A|   4|   X|    ds| 20000|\n",
      "+------+--------+--------+----+-----+----+----+------+------+\n",
      "\n"
     ]
    }
   ],
   "source": [
    "#2.show supplier details who has supplied items with cost>1000\n",
    "pdf=df1.join(df2,df1.s_id==df2.s_id,'inner')\n",
    "pdf.createOrReplaceTempView(\"tempview\")\n",
    "res=spark.sql(\"select * from tempview  where icost >=1000 \")\n",
    "res.show()\n"
   ]
  },
  {
   "cell_type": "code",
   "execution_count": 8,
   "id": "1e3c4c24",
   "metadata": {},
   "outputs": [
    {
     "data": {
      "text/html": [
       "<div>\n",
       "<style scoped>\n",
       "    .dataframe tbody tr th:only-of-type {\n",
       "        vertical-align: middle;\n",
       "    }\n",
       "\n",
       "    .dataframe tbody tr th {\n",
       "        vertical-align: top;\n",
       "    }\n",
       "\n",
       "    .dataframe thead th {\n",
       "        text-align: right;\n",
       "    }\n",
       "</style>\n",
       "<table border=\"1\" class=\"dataframe\">\n",
       "  <thead>\n",
       "    <tr style=\"text-align: right;\">\n",
       "      <th></th>\n",
       "      <th>itemid</th>\n",
       "      <th>itemname</th>\n",
       "      <th>itemcost</th>\n",
       "      <th>s_id</th>\n",
       "      <th>grade</th>\n",
       "      <th>qty</th>\n",
       "    </tr>\n",
       "  </thead>\n",
       "  <tbody>\n",
       "    <tr>\n",
       "      <th>0</th>\n",
       "      <td>5</td>\n",
       "      <td>notebook</td>\n",
       "      <td>NaN</td>\n",
       "      <td>None</td>\n",
       "      <td>None</td>\n",
       "      <td>NaN</td>\n",
       "    </tr>\n",
       "  </tbody>\n",
       "</table>\n",
       "</div>"
      ],
      "text/plain": [
       "   itemid  itemname  itemcost  s_id grade  qty\n",
       "0       5  notebook       NaN  None  None  NaN"
      ]
     },
     "execution_count": 8,
     "metadata": {},
     "output_type": "execute_result"
    }
   ],
   "source": [
    "#3.show all item details whos supplier details are not available\n",
    "pdf=df1.join(df2,df1.s_id==df2.s_id,\"leftanti\")\n",
    "pdf.toPandas()"
   ]
  },
  {
   "cell_type": "code",
   "execution_count": 9,
   "id": "e190eda6",
   "metadata": {},
   "outputs": [
    {
     "data": {
      "text/html": [
       "<div>\n",
       "<style scoped>\n",
       "    .dataframe tbody tr th:only-of-type {\n",
       "        vertical-align: middle;\n",
       "    }\n",
       "\n",
       "    .dataframe tbody tr th {\n",
       "        vertical-align: top;\n",
       "    }\n",
       "\n",
       "    .dataframe thead th {\n",
       "        text-align: right;\n",
       "    }\n",
       "</style>\n",
       "<table border=\"1\" class=\"dataframe\">\n",
       "  <thead>\n",
       "    <tr style=\"text-align: right;\">\n",
       "      <th></th>\n",
       "      <th>itemid</th>\n",
       "      <th>itemname</th>\n",
       "      <th>itemcost</th>\n",
       "      <th>s_id</th>\n",
       "      <th>grade</th>\n",
       "      <th>qty</th>\n",
       "    </tr>\n",
       "  </thead>\n",
       "  <tbody>\n",
       "    <tr>\n",
       "      <th>0</th>\n",
       "      <td>1</td>\n",
       "      <td>Pencil</td>\n",
       "      <td>4.0</td>\n",
       "      <td>Y</td>\n",
       "      <td>B</td>\n",
       "      <td>6.0</td>\n",
       "    </tr>\n",
       "    <tr>\n",
       "      <th>1</th>\n",
       "      <td>2</td>\n",
       "      <td>Pen</td>\n",
       "      <td>43.0</td>\n",
       "      <td>X</td>\n",
       "      <td>A</td>\n",
       "      <td>1.0</td>\n",
       "    </tr>\n",
       "    <tr>\n",
       "      <th>2</th>\n",
       "      <td>3</td>\n",
       "      <td>Duster</td>\n",
       "      <td>54.0</td>\n",
       "      <td>Y</td>\n",
       "      <td>C</td>\n",
       "      <td>3.0</td>\n",
       "    </tr>\n",
       "    <tr>\n",
       "      <th>3</th>\n",
       "      <td>4</td>\n",
       "      <td>Chock</td>\n",
       "      <td>65.0</td>\n",
       "      <td>X</td>\n",
       "      <td>A</td>\n",
       "      <td>4.0</td>\n",
       "    </tr>\n",
       "    <tr>\n",
       "      <th>4</th>\n",
       "      <td>7</td>\n",
       "      <td>shopner</td>\n",
       "      <td>NaN</td>\n",
       "      <td>Y</td>\n",
       "      <td>C</td>\n",
       "      <td>NaN</td>\n",
       "    </tr>\n",
       "    <tr>\n",
       "      <th>5</th>\n",
       "      <td>8</td>\n",
       "      <td>Duster</td>\n",
       "      <td>54.0</td>\n",
       "      <td>Y</td>\n",
       "      <td>C</td>\n",
       "      <td>3.0</td>\n",
       "    </tr>\n",
       "    <tr>\n",
       "      <th>6</th>\n",
       "      <td>9</td>\n",
       "      <td>Chock</td>\n",
       "      <td>65.0</td>\n",
       "      <td>X</td>\n",
       "      <td>A</td>\n",
       "      <td>4.0</td>\n",
       "    </tr>\n",
       "  </tbody>\n",
       "</table>\n",
       "</div>"
      ],
      "text/plain": [
       "   itemid itemname  itemcost s_id grade  qty\n",
       "0       1   Pencil       4.0    Y     B  6.0\n",
       "1       2      Pen      43.0    X     A  1.0\n",
       "2       3   Duster      54.0    Y     C  3.0\n",
       "3       4    Chock      65.0    X     A  4.0\n",
       "4       7  shopner       NaN    Y     C  NaN\n",
       "5       8   Duster      54.0    Y     C  3.0\n",
       "6       9    Chock      65.0    X     A  4.0"
      ]
     },
     "execution_count": 9,
     "metadata": {},
     "output_type": "execute_result"
    }
   ],
   "source": [
    "#4.show item details whose supplier details are available\n",
    "pdf=df1.join(df2,df1.s_id==df2.s_id,\"leftsemi\")\n",
    "pdf.toPandas()\n",
    "  "
   ]
  },
  {
   "cell_type": "code",
   "execution_count": 10,
   "id": "fa2d327b",
   "metadata": {},
   "outputs": [
    {
     "name": "stdout",
     "output_type": "stream",
     "text": [
      "+------+\n",
      "|s_name|\n",
      "+------+\n",
      "|     i|\n",
      "+------+\n",
      "\n"
     ]
    }
   ],
   "source": [
    "#5.show item details along with supplier details for such items ,for which supplier details are  available and item name starts with 'b'\n",
    "result=spark.sql(\"select s_name from tempview2 where s_name LIKE 'i%'\")\n",
    "result.show()\n"
   ]
  },
  {
   "cell_type": "code",
   "execution_count": 21,
   "id": "416d6c6a",
   "metadata": {},
   "outputs": [
    {
     "name": "stdout",
     "output_type": "stream",
     "text": [
      "+----------+----------+----------+\n",
      "|min(icost)|max(icost)|sum(icost)|\n",
      "+----------+----------+----------+\n",
      "|       123|    100000|    497668|\n",
      "+----------+----------+----------+\n",
      "\n"
     ]
    }
   ],
   "source": [
    "#6.Show supplier wise number of items supplied, sum ,min ,max total of itemcost .\n",
    "result=spark.sql(\"select min(icost),max(icost),sum(icost) from tempview\")\n",
    "result.show()\n"
   ]
  },
  {
   "cell_type": "code",
   "execution_count": 12,
   "id": "3d79163b",
   "metadata": {},
   "outputs": [
    {
     "name": "stdout",
     "output_type": "stream",
     "text": [
      "+------+--------+--------+----+-----+----+----+------+--------+\n",
      "|itemid|itemname|itemcost|s_id|grade| qty|s_id|s_name|itemcost|\n",
      "+------+--------+--------+----+-----+----+----+------+--------+\n",
      "|     1|  Pencil|       4|   Y|    B|   6|   Y|     v|     123|\n",
      "|     1|  Pencil|       4|   Y|    B|   6|   Y|     i|    4544|\n",
      "|     1|  Pencil|       4|   Y|    B|   6|   Y|    fd|  100000|\n",
      "|     1|  Pencil|       4|   Y|    B|   6|   Y|    AD|    1000|\n",
      "|     2|     Pen|      43|   X|    A|   1|   X|    gg|    null|\n",
      "|     2|     Pen|      43|   X|    A|   1|   X|  fgvf|    5000|\n",
      "|     2|     Pen|      43|   X|    A|   1|   X|    ds|   20000|\n",
      "|     3|  Duster|      54|   Y|    C|   3|   Y|     v|     123|\n",
      "|     3|  Duster|      54|   Y|    C|   3|   Y|     i|    4544|\n",
      "|     3|  Duster|      54|   Y|    C|   3|   Y|    fd|  100000|\n",
      "|     3|  Duster|      54|   Y|    C|   3|   Y|    AD|    1000|\n",
      "|     4|   Chock|      65|   X|    A|   4|   X|    gg|    null|\n",
      "|     4|   Chock|      65|   X|    A|   4|   X|  fgvf|    5000|\n",
      "|     4|   Chock|      65|   X|    A|   4|   X|    ds|   20000|\n",
      "|     7| shopner|    null|   Y|    C|null|   Y|     v|     123|\n",
      "|     7| shopner|    null|   Y|    C|null|   Y|     i|    4544|\n",
      "|     7| shopner|    null|   Y|    C|null|   Y|    fd|  100000|\n",
      "|     7| shopner|    null|   Y|    C|null|   Y|    AD|    1000|\n",
      "|     8|  Duster|      54|   Y|    C|   3|   Y|     v|     123|\n",
      "|     8|  Duster|      54|   Y|    C|   3|   Y|     i|    4544|\n",
      "+------+--------+--------+----+-----+----+----+------+--------+\n",
      "only showing top 20 rows\n",
      "\n"
     ]
    }
   ],
   "source": [
    "#7.join overall items available in 2 stores\n",
    "pdf=df1.join(df2,df1.s_id==df2.s_id,\"inner\")\n",
    "pdf.show()"
   ]
  },
  {
   "cell_type": "code",
   "execution_count": null,
   "id": "551b83d9",
   "metadata": {},
   "outputs": [],
   "source": []
  }
 ],
 "metadata": {
  "kernelspec": {
   "display_name": "Python 3 (ipykernel)",
   "language": "python",
   "name": "python3"
  },
  "language_info": {
   "codemirror_mode": {
    "name": "ipython",
    "version": 3
   },
   "file_extension": ".py",
   "mimetype": "text/x-python",
   "name": "python",
   "nbconvert_exporter": "python",
   "pygments_lexer": "ipython3",
   "version": "3.9.7"
  }
 },
 "nbformat": 4,
 "nbformat_minor": 5
}
